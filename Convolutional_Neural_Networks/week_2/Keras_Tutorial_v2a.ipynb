{
 "cells": [
  {
   "cell_type": "markdown",
   "metadata": {},
   "source": [
    "# Keras tutorial - Emotion Detection in Images of Faces\n",
    "\n",
    "Welcome to the first assignment of week 2. In this assignment, you will:\n",
    "1. Learn to use Keras, a high-level neural networks API (programming framework), written in Python and capable of running on top of several lower-level frameworks including TensorFlow and CNTK. \n",
    "2. See how you can in a couple of hours build a deep learning algorithm.\n",
    "\n",
    "#### Why are we using Keras? \n",
    "\n",
    "* Keras was developed to enable deep learning engineers to build and experiment with different models very quickly. \n",
    "* Just as TensorFlow is a higher-level framework than Python, Keras is an even higher-level framework and provides additional abstractions. \n",
    "* Being able to go from idea to result with the least possible delay is key to finding good models. \n",
    "* However, Keras is more restrictive than the lower-level frameworks, so there are some very complex models that you would still implement in TensorFlow rather than in Keras. \n",
    "* That being said, Keras will work fine for many common models. "
   ]
  },
  {
   "cell_type": "markdown",
   "metadata": {},
   "source": [
    "## <font color='darkblue'>Updates</font>\n",
    "\n",
    "#### If you were working on the notebook before this update...\n",
    "* The current notebook is version \"v2a\".\n",
    "* You can find your original work saved in the notebook with the previous version name (\"v2\").\n",
    "* To view the file directory, go to the menu \"File->Open\", and this will open a new tab that shows the file directory.\n",
    "\n",
    "#### List of updates\n",
    "* Changed back-story of model to \"emotion detection\" from \"happy house.\"\n",
    "* Cleaned/organized wording of instructions and commentary.\n",
    "* Added instructions on how to set `input_shape`\n",
    "* Added explanation of \"objects as functions\" syntax.\n",
    "* Clarified explanation of variable naming convention.\n",
    "* Added hints for steps 1,2,3,4"
   ]
  },
  {
   "cell_type": "markdown",
   "metadata": {},
   "source": [
    "## Load packages\n",
    "* In this exercise, you'll work on the \"Emotion detection\" model, which we'll explain below. \n",
    "* Let's load the required packages."
   ]
  },
  {
   "cell_type": "code",
   "execution_count": 1,
   "metadata": {},
   "outputs": [
    {
     "name": "stderr",
     "output_type": "stream",
     "text": [
      "Using TensorFlow backend.\n"
     ]
    }
   ],
   "source": [
    "import numpy as np\n",
    "from keras import layers\n",
    "from keras.layers import Input, Dense, Activation, ZeroPadding2D, BatchNormalization, Flatten, Conv2D\n",
    "from keras.layers import AveragePooling2D, MaxPooling2D, Dropout, GlobalMaxPooling2D, GlobalAveragePooling2D\n",
    "from keras.models import Model\n",
    "from keras.preprocessing import image\n",
    "from keras.utils import layer_utils\n",
    "from keras.utils.data_utils import get_file\n",
    "from keras.applications.imagenet_utils import preprocess_input\n",
    "import pydot\n",
    "from IPython.display import SVG\n",
    "from keras.utils.vis_utils import model_to_dot\n",
    "from keras.utils import plot_model\n",
    "from python_utils import *\n",
    "# from kt_utils import *\n",
    "import h5py\n",
    "\n",
    "import keras.backend as K\n",
    "K.set_image_data_format('channels_last')\n",
    "import matplotlib.pyplot as plt\n",
    "from matplotlib.pyplot import imshow\n",
    "\n",
    "%matplotlib inline"
   ]
  },
  {
   "cell_type": "markdown",
   "metadata": {},
   "source": [
    "**Note**: As you can see, we've imported a lot of functions from Keras. You can use them by calling them directly in your code. Ex: `X = Input(...)` or `X = ZeroPadding2D(...)`. \n",
    "\n",
    "In other words, unlike TensorFlow, you don't have to create the graph and then make a separate `sess.run()` call to evaluate those variables."
   ]
  },
  {
   "cell_type": "markdown",
   "metadata": {},
   "source": [
    "## 1 - Emotion Tracking\n",
    "\n",
    "* A nearby community health clinic is helping the local residents monitor their mental health.  \n",
    "* As part of their study, they are asking volunteers to record their emotions throughout the day.\n",
    "* To help the participants more easily track their emotions, you are asked to create an app that will classify their emotions based on some pictures that the volunteers will take of their facial expressions.\n",
    "* As a proof-of-concept, you first train your model to detect if someone's emotion is classified as \"happy\" or \"not happy.\"\n",
    "\n",
    "To build and train this model, you have gathered pictures of some volunteers in a nearby neighborhood. The dataset is labeled.\n",
    "<img src=\"images/face_images.png\" style=\"width:550px;height:250px;\">\n",
    "\n",
    "Run the following code to normalize the dataset and learn about its shapes."
   ]
  },
  {
   "cell_type": "code",
   "execution_count": 2,
   "metadata": {},
   "outputs": [],
   "source": [
    "def load_dataset():\n",
    "    train_dataset = h5py.File('datasets/train_happy.h5', \"r\")\n",
    "    train_x = np.array(train_dataset['train_set_x'][:])\n",
    "    train_y = np.array(train_dataset['train_set_y'][:])\n",
    "\n",
    "    test_dataset = h5py.File('datasets/test_happy.h5', \"r\")\n",
    "    test_x = np.array(test_dataset['test_set_x'][:])\n",
    "    test_y = np.array(test_dataset['test_set_y'][:])\n",
    "\n",
    "    # y reshaped\n",
    "    train_y = train_y.reshape((1, train_x.shape[0]))\n",
    "    test_y = test_y.reshape((1, test_y.shape[0]))\n",
    "\n",
    "    return train_x, train_y, test_x, test_y"
   ]
  },
  {
   "cell_type": "code",
   "execution_count": 3,
   "metadata": {},
   "outputs": [
    {
     "name": "stdout",
     "output_type": "stream",
     "text": [
      "number of training examples = 600\n",
      "number of test examples = 150\n",
      "X_train shape: (600, 64, 64, 3)\n",
      "Y_train shape: (600, 1)\n",
      "X_test shape: (150, 64, 64, 3)\n",
      "Y_test shape: (150, 1)\n"
     ]
    }
   ],
   "source": [
    "\n",
    "\n",
    "X_train_orig, Y_train_orig, X_test_orig, Y_test_orig= load_dataset()\n",
    "\n",
    "# Normalize image vectors\n",
    "X_train = X_train_orig/255.\n",
    "X_test = X_test_orig/255.\n",
    "\n",
    "# Reshape\n",
    "Y_train = Y_train_orig.T\n",
    "Y_test = Y_test_orig.T\n",
    "\n",
    "print (\"number of training examples = \" + str(X_train.shape[0]))\n",
    "print (\"number of test examples = \" + str(X_test.shape[0]))\n",
    "print (\"X_train shape: \" + str(X_train.shape))\n",
    "print (\"Y_train shape: \" + str(Y_train.shape))\n",
    "print (\"X_test shape: \" + str(X_test.shape))\n",
    "print (\"Y_test shape: \" + str(Y_test.shape))"
   ]
  },
  {
   "cell_type": "markdown",
   "metadata": {},
   "source": [
    "**Details of the \"Face\" dataset**:\n",
    "- Images are of shape (64,64,3)\n",
    "- Training: 600 pictures\n",
    "- Test: 150 pictures"
   ]
  },
  {
   "cell_type": "markdown",
   "metadata": {},
   "source": [
    "## 2 - Building a model in Keras\n",
    "\n",
    "Keras is very good for rapid prototyping. In just a short time you will be able to build a model that achieves outstanding results.\n",
    "\n",
    "Here is an example of a model in Keras:\n",
    "\n",
    "```python\n",
    "def model(input_shape):\n",
    "    \"\"\"\n",
    "    input_shape: The height, width and channels as a tuple.  \n",
    "        Note that this does not include the 'batch' as a dimension.\n",
    "        If you have a batch like 'X_train', \n",
    "        then you can provide the input_shape using\n",
    "        X_train.shape[1:]\n",
    "    \"\"\"\n",
    "    \n",
    "    # Define the input placeholder as a tensor with shape input_shape. Think of this as your input image!\n",
    "    X_input = Input(input_shape)\n",
    "\n",
    "    # Zero-Padding: pads the border of X_input with zeroes\n",
    "    X = ZeroPadding2D((3, 3))(X_input)\n",
    "\n",
    "    # CONV -> BN -> RELU Block applied to X\n",
    "    X = Conv2D(32, (7, 7), strides = (1, 1), name = 'conv0')(X)\n",
    "    X = BatchNormalization(axis = 3, name = 'bn0')(X)\n",
    "    X = Activation('relu')(X)\n",
    "\n",
    "    # MAXPOOL\n",
    "    X = MaxPooling2D((2, 2), name='max_pool')(X)\n",
    "\n",
    "    # FLATTEN X (means convert it to a vector) + FULLYCONNECTED\n",
    "    X = Flatten()(X)\n",
    "    X = Dense(1, activation='sigmoid', name='fc')(X)\n",
    "\n",
    "    # Create model. This creates your Keras model instance, you'll use this instance to train/test the model.\n",
    "    model = Model(inputs = X_input, outputs = X, name='HappyModel')\n",
    "    \n",
    "    return model\n",
    "```"
   ]
  },
  {
   "cell_type": "markdown",
   "metadata": {},
   "source": [
    "#### Variable naming convention\n",
    "\n",
    "* Note that Keras uses a different convention with variable names than we've previously used with numpy and TensorFlow. \n",
    "* Instead of creating unique variable names for each step and each layer, such as \n",
    "```\n",
    "X = ...\n",
    "Z1 = ...\n",
    "A1 = ...\n",
    "```\n",
    "* Keras re-uses and overwrites the same variable at each step:\n",
    "```\n",
    "X = ...\n",
    "X = ...\n",
    "X = ...\n",
    "```\n",
    "* The exception is `X_input`, which we kept separate since it's needed later."
   ]
  },
  {
   "cell_type": "markdown",
   "metadata": {},
   "source": [
    "#### Objects as functions\n",
    "* Notice how there are two pairs of parentheses in each statement.  For example:\n",
    "```\n",
    "X = ZeroPadding2D((3, 3))(X_input)\n",
    "```\n",
    "* The first is a constructor call which creates an object (ZeroPadding2D).\n",
    "* In Python, objects can be called as functions. Search for 'python object as function and you can read this blog post [Python Pandemonium](https://medium.com/python-pandemonium/function-as-objects-in-python-d5215e6d1b0d).  See the section titled \"Objects as functions.\"\n",
    "* The single line is equivalent to this:\n",
    "```\n",
    "ZP = ZeroPadding2D((3, 3)) # ZP is an object that can be called as a function\n",
    "X = ZP(X_input) \n",
    "```"
   ]
  },
  {
   "cell_type": "markdown",
   "metadata": {},
   "source": [
    "**Exercise**: Implement a `HappyModel()`.  \n",
    "* This assignment is more open-ended than most. \n",
    "* Start by implementing a model using the architecture we suggest, and run through the rest of this assignment using that as your initial model. * Later, come back and try out other model architectures. \n",
    "* For example, you might take inspiration from the model above, but then vary the network architecture and hyperparameters however you wish. \n",
    "* You can also use other functions such as `AveragePooling2D()`, `GlobalMaxPooling2D()`, `Dropout()`. \n",
    "\n",
    "**Note**: Be careful with your data's shapes. Use what you've learned in the videos to make sure your convolutional, pooling and fully-connected layers are adapted to the volumes you're applying it to."
   ]
  },
  {
   "cell_type": "code",
   "execution_count": 4,
   "metadata": {},
   "outputs": [],
   "source": [
    "# GRADED FUNCTION: HappyModel\n",
    "\n",
    "def HappyModel(input_shape):\n",
    "    \"\"\"\n",
    "    Implementation of the HappyModel.\n",
    "    \n",
    "    Arguments:\n",
    "    input_shape -- shape of the images of the dataset\n",
    "        (height, width, channels) as a tuple.  \n",
    "        Note that this does not include the 'batch' as a dimension.\n",
    "        If you have a batch like 'X_train', \n",
    "        then you can provide the input_shape using\n",
    "        X_train.shape[1:]\n",
    "    \"\"\"\n",
    "    X_input = Input(input_shape)\n",
    "\n",
    "    # Zero-Padding: pads the border of X_input with zeroes\n",
    "    X = ZeroPadding2D((3, 3))(X_input)\n",
    "\n",
    "    # CONV -> BN -> RELU Block applied to X\n",
    "    X = Conv2D(32, (3, 3), strides=(1, 1), name='conv0')(X)\n",
    "    X = BatchNormalization(axis=3, name='bn0')(X)\n",
    "    X = Activation('relu')(X)\n",
    "\n",
    "    X = Conv2D(32, (3, 3), strides=(1, 1), name='conv1')(X)\n",
    "    X = BatchNormalization(axis=3, name='bn1')(X)\n",
    "    X = Activation('relu')(X)\n",
    "    # MAXPOOL\n",
    "    X = MaxPooling2D((2, 2), name='max_pool')(X)\n",
    "\n",
    "    # FLATTEN X (means convert it to a vector) + FULLYCONNECTED\n",
    "    X = Flatten()(X)\n",
    "    X = Dense(1, activation='sigmoid', name='fc')(X)\n",
    "\n",
    "    # Create model. This creates your Keras model instance, you'll use this instance to train/test the model.\n",
    "    model = Model(inputs=X_input, outputs=X, name='HappyModel')\n",
    "\n",
    "    ### END CODE HERE ###\n",
    "    \n",
    "    return model"
   ]
  },
  {
   "cell_type": "markdown",
   "metadata": {},
   "source": [
    "You have now built a function to describe your model. To train and test this model, there are four steps in Keras:\n",
    "1. Create the model by calling the function above  \n",
    "\n",
    "2. Compile the model by calling `model.compile(optimizer = \"...\", loss = \"...\", metrics = [\"accuracy\"])`  \n",
    "\n",
    "3. Train the model on train data by calling `model.fit(x = ..., y = ..., epochs = ..., batch_size = ...)`  \n",
    "\n",
    "4. Test the model on test data by calling `model.evaluate(x = ..., y = ...)`  \n",
    "\n",
    "If you want to know more about `model.compile()`, `model.fit()`, `model.evaluate()` and their arguments, refer to the official [Keras documentation](https://keras.io/models/model/)."
   ]
  },
  {
   "cell_type": "markdown",
   "metadata": {},
   "source": [
    "#### Step 1: create the model.  \n",
    "**Hint**:  \n",
    "The `input_shape` parameter is a tuple (height, width, channels).  It excludes the batch number.  \n",
    "Try `X_train.shape[1:]` as the `input_shape`."
   ]
  },
  {
   "cell_type": "code",
   "execution_count": 5,
   "metadata": {},
   "outputs": [
    {
     "name": "stdout",
     "output_type": "stream",
     "text": [
      "WARNING:tensorflow:From /home/nhlophe/.local/lib/python3.7/site-packages/keras/backend/tensorflow_backend.py:4070: The name tf.nn.max_pool is deprecated. Please use tf.nn.max_pool2d instead.\n",
      "\n"
     ]
    }
   ],
   "source": [
    "### START CODE HERE ### (1 line)\n",
    "happyModel = HappyModel(X_train.shape[1:])\n",
    "### END CODE HERE ###"
   ]
  },
  {
   "cell_type": "markdown",
   "metadata": {},
   "source": [
    "#### Step 2: compile the model\n",
    "\n",
    "**Hint**:  \n",
    "Optimizers you can try include `'adam'`, `'sgd'` or others.  See the documentation for [optimizers](https://keras.io/optimizers/)  \n",
    "The \"happiness detection\" is a binary classification problem.  The loss function that you can use is `'binary_cross_entropy'`.  Note that `'categorical_cross_entropy'` won't work with your data set as its formatted, because the data is an array of 0 or 1 rather than two arrays (one for each category).  Documentation for [losses](https://keras.io/losses/)"
   ]
  },
  {
   "cell_type": "code",
   "execution_count": 6,
   "metadata": {},
   "outputs": [
    {
     "name": "stdout",
     "output_type": "stream",
     "text": [
      "WARNING:tensorflow:From /home/nhlophe/.local/lib/python3.7/site-packages/tensorflow/python/ops/nn_impl.py:180: add_dispatch_support.<locals>.wrapper (from tensorflow.python.ops.array_ops) is deprecated and will be removed in a future version.\n",
      "Instructions for updating:\n",
      "Use tf.where in 2.0, which has the same broadcast rule as np.where\n"
     ]
    }
   ],
   "source": [
    "### START CODE HERE ### (1 line)\n",
    "happyModel.compile('adam','binary_crossentropy', metrics = [\"accuracy\"])\n",
    "### END CODE HERE ###"
   ]
  },
  {
   "cell_type": "markdown",
   "metadata": {},
   "source": [
    "#### Step 3: train the model\n",
    "\n",
    "**Hint**:  \n",
    "Use the `'X_train'`, `'Y_train'` variables.  Use integers for the epochs and batch_size\n",
    "\n",
    "**Note**: If you run `fit()` again, the `model` will continue to train with the parameters it has already learned instead of reinitializing them."
   ]
  },
  {
   "cell_type": "code",
   "execution_count": 7,
   "metadata": {},
   "outputs": [
    {
     "name": "stdout",
     "output_type": "stream",
     "text": [
      "WARNING:tensorflow:From /home/nhlophe/.local/lib/python3.7/site-packages/keras/backend/tensorflow_backend.py:422: The name tf.global_variables is deprecated. Please use tf.compat.v1.global_variables instead.\n",
      "\n",
      "Epoch 1/10\n",
      "600/600 [==============================] - 6s 9ms/step - loss: 1.0030 - accuracy: 0.7900\n",
      "Epoch 2/10\n",
      "600/600 [==============================] - 6s 9ms/step - loss: 0.5993 - accuracy: 0.8650\n",
      "Epoch 3/10\n",
      "600/600 [==============================] - 6s 9ms/step - loss: 0.2846 - accuracy: 0.9300\n",
      "Epoch 4/10\n",
      "600/600 [==============================] - 6s 9ms/step - loss: 0.2563 - accuracy: 0.9500\n",
      "Epoch 5/10\n",
      "600/600 [==============================] - 5s 9ms/step - loss: 0.2296 - accuracy: 0.9300\n",
      "Epoch 6/10\n",
      "600/600 [==============================] - 6s 10ms/step - loss: 0.1517 - accuracy: 0.9583\n",
      "Epoch 7/10\n",
      "600/600 [==============================] - 6s 10ms/step - loss: 0.0714 - accuracy: 0.9800\n",
      "Epoch 8/10\n",
      "600/600 [==============================] - 6s 10ms/step - loss: 0.1394 - accuracy: 0.9633\n",
      "Epoch 9/10\n",
      "600/600 [==============================] - 5s 9ms/step - loss: 0.1588 - accuracy: 0.9533\n",
      "Epoch 10/10\n",
      "600/600 [==============================] - 5s 9ms/step - loss: 0.0938 - accuracy: 0.9733\n"
     ]
    },
    {
     "data": {
      "text/plain": [
       "<keras.callbacks.callbacks.History at 0x7f8ed175df28>"
      ]
     },
     "execution_count": 7,
     "metadata": {},
     "output_type": "execute_result"
    }
   ],
   "source": [
    "### START CODE HERE ### (1 line)\n",
    "happyModel.fit(X_train,Y_train,batch_size=4, epochs=10)\n",
    "### END CODE HERE ###"
   ]
  },
  {
   "cell_type": "markdown",
   "metadata": {},
   "source": [
    "#### Step 4: evaluate model  \n",
    "**Hint**:  \n",
    "Use the `'X_test'` and `'Y_test'` variables to evaluate the model's performance."
   ]
  },
  {
   "cell_type": "code",
   "execution_count": 8,
   "metadata": {
    "scrolled": true
   },
   "outputs": [
    {
     "name": "stdout",
     "output_type": "stream",
     "text": [
      "150/150 [==============================] - 0s 3ms/step\n",
      "\n",
      "Loss = 0.15672304173310597\n",
      "Test Accuracy = 0.9333333373069763\n"
     ]
    }
   ],
   "source": [
    "### START CODE HERE ### (1 line)\n",
    "preds = happyModel.evaluate(X_test,Y_test)\n",
    "### END CODE HERE ###\n",
    "print()\n",
    "print (\"Loss = \" + str(preds[0]))\n",
    "print (\"Test Accuracy = \" + str(preds[1]))"
   ]
  },
  {
   "cell_type": "markdown",
   "metadata": {},
   "source": [
    "#### Expected performance   \n",
    "If your `happyModel()` function worked, its accuracy should be better than random guessing (50% accuracy).\n",
    "\n",
    "To give you a point of comparison, our model gets around **95% test accuracy in 40 epochs** (and 99% train accuracy) with a mini batch size of 16 and \"adam\" optimizer."
   ]
  },
  {
   "cell_type": "markdown",
   "metadata": {},
   "source": [
    "#### Tips for improving your model\n",
    "\n",
    "If you have not yet achieved a very good accuracy (>= 80%), here are some things tips:\n",
    "\n",
    "- Use blocks of CONV->BATCHNORM->RELU such as:\n",
    "```python\n",
    "X = Conv2D(32, (3, 3), strides = (1, 1), name = 'conv0')(X)\n",
    "X = BatchNormalization(axis = 3, name = 'bn0')(X)\n",
    "X = Activation('relu')(X)\n",
    "```\n",
    "until your height and width dimensions are quite low and your number of channels quite large (≈32 for example).  \n",
    "You can then flatten the volume and use a fully-connected layer.\n",
    "- Use MAXPOOL after such blocks.  It will help you lower the dimension in height and width.\n",
    "- Change your optimizer. We find 'adam' works well. \n",
    "- If you get memory issues, lower your batch_size (e.g. 12 )\n",
    "- Run more epochs until you see the train accuracy no longer improves. \n",
    "\n",
    "**Note**: If you perform hyperparameter tuning on your model, the test set actually becomes a dev set, and your model might end up overfitting to the test (dev) set. Normally, you'll want separate dev and test sets.  The dev set is used for parameter tuning, and the test set is used once to estimate the model's performance in production."
   ]
  },
  {
   "cell_type": "markdown",
   "metadata": {},
   "source": [
    "## 3 - Conclusion\n",
    "\n",
    "Congratulations, you have created a proof of concept for \"happiness detection\"!"
   ]
  },
  {
   "cell_type": "markdown",
   "metadata": {},
   "source": [
    "## Key Points to remember\n",
    "- Keras is a tool we recommend for rapid prototyping. It allows you to quickly try out different model architectures.\n",
    "- Remember The four steps in Keras: \n",
    "\n",
    "\n",
    "1. Create  \n",
    "2. Compile  \n",
    "3. Fit/Train  \n",
    "4. Evaluate/Test  "
   ]
  },
  {
   "cell_type": "markdown",
   "metadata": {},
   "source": [
    "## 4 - Test with your own image (Optional)\n",
    "\n",
    "Congratulations on finishing this assignment. You can now take a picture of your face and see if it can classify whether your expression is \"happy\" or \"not happy\". To do that:\n",
    "\n",
    "\n",
    "1. Click on \"File\" in the upper bar of this notebook, then click \"Open\" to go on your Coursera Hub.\n",
    "2. Add your image to this Jupyter Notebook's directory, in the \"images\" folder\n",
    "3. Write your image's name in the following code\n",
    "4. Run the code and check if the algorithm is right (0 is not happy, 1 is happy)!\n",
    "    \n",
    "The training/test sets were quite similar; for example, all the pictures were taken against the same background (since a front door camera is always mounted in the same position). This makes the problem easier, but a model trained on this data may or may not work on your own data. But feel free to give it a try! "
   ]
  },
  {
   "cell_type": "code",
   "execution_count": 9,
   "metadata": {},
   "outputs": [
    {
     "name": "stdout",
     "output_type": "stream",
     "text": [
      "[[1.]]\n"
     ]
    },
    {
     "data": {
      "image/png": "[encoded data removed]",
      "text/plain": [
       "<Figure size 432x288 with 1 Axes>"
      ]
     },
     "metadata": {
      "needs_background": "light"
     },
     "output_type": "display_data"
    }
   ],
   "source": [
    "### START CODE HERE ###\n",
    "img_path = 'images/profile_pic.png'\n",
    "### END CODE HERE ###\n",
    "img = image.load_img(img_path, target_size=(64, 64))\n",
    "imshow(img)\n",
    "\n",
    "x = image.img_to_array(img)\n",
    "x = np.expand_dims(x, axis=0)\n",
    "x = preprocess_input(x)\n",
    "\n",
    "print(happyModel.predict(x))"
   ]
  },
  {
   "cell_type": "markdown",
   "metadata": {},
   "source": [
    "## 5 - Other useful functions in Keras (Optional)\n",
    "\n",
    "Two other basic features of Keras that you'll find useful are:\n",
    "- `model.summary()`: prints the details of your layers in a table with the sizes of its inputs/outputs\n",
    "- `plot_model()`: plots your graph in a nice layout. You can even save it as \".png\" using SVG() if you'd like to share it on social media ;). It is saved in \"File\" then \"Open...\" in the upper bar of the notebook.\n",
    "\n",
    "Run the following code."
   ]
  },
  {
   "cell_type": "code",
   "execution_count": 10,
   "metadata": {
    "scrolled": false
   },
   "outputs": [
    {
     "name": "stdout",
     "output_type": "stream",
     "text": [
      "Model: \"HappyModel\"\n",
      "_________________________________________________________________\n",
      "Layer (type)                 Output Shape              Param #   \n",
      "=================================================================\n",
      "input_1 (InputLayer)         (None, 64, 64, 3)         0         \n",
      "_________________________________________________________________\n",
      "zero_padding2d_1 (ZeroPaddin (None, 70, 70, 3)         0         \n",
      "_________________________________________________________________\n",
      "conv0 (Conv2D)               (None, 68, 68, 32)        896       \n",
      "_________________________________________________________________\n",
      "bn0 (BatchNormalization)     (None, 68, 68, 32)        128       \n",
      "_________________________________________________________________\n",
      "activation_1 (Activation)    (None, 68, 68, 32)        0         \n",
      "_________________________________________________________________\n",
      "conv1 (Conv2D)               (None, 66, 66, 32)        9248      \n",
      "_________________________________________________________________\n",
      "bn1 (BatchNormalization)     (None, 66, 66, 32)        128       \n",
      "_________________________________________________________________\n",
      "activation_2 (Activation)    (None, 66, 66, 32)        0         \n",
      "_________________________________________________________________\n",
      "max_pool (MaxPooling2D)      (None, 33, 33, 32)        0         \n",
      "_________________________________________________________________\n",
      "flatten_1 (Flatten)          (None, 34848)             0         \n",
      "_________________________________________________________________\n",
      "fc (Dense)                   (None, 1)                 34849     \n",
      "=================================================================\n",
      "Total params: 45,249\n",
      "Trainable params: 45,121\n",
      "Non-trainable params: 128\n",
      "_________________________________________________________________\n"
     ]
    }
   ],
   "source": [
    "happyModel.summary()"
   ]
  },
  {
   "cell_type": "code",
   "execution_count": 11,
   "metadata": {},
   "outputs": [
    {
     "data": {
      "image/svg+xml": [
       "<svg height=\"1033pt\" viewBox=\"0.00 0.00 219.00 775.00\" width=\"292pt\" xmlns=\"http://www.w3.org/2000/svg\" xmlns:xlink=\"http://www.w3.org/1999/xlink\">\n",
       "<g class=\"graph\" id=\"graph0\" transform=\"scale(1.3333 1.3333) rotate(0) translate(4 771)\">\n",
       "<title>G</title>\n",
       "<polygon fill=\"#ffffff\" points=\"-4,4 -4,-771 215,-771 215,4 -4,4\" stroke=\"transparent\"/>\n",
       "<!-- 140251392797440 -->\n",
       "<g class=\"node\" id=\"node1\">\n",
       "<title>140251392797440</title>\n",
       "<polygon fill=\"none\" points=\"43,-730.5 43,-766.5 168,-766.5 168,-730.5 43,-730.5\" stroke=\"#000000\"/>\n",
       "<text fill=\"#000000\" font-family=\"Times,serif\" font-size=\"14.00\" text-anchor=\"middle\" x=\"105.5\" y=\"-744.8\">input_1: InputLayer</text>\n",
       "</g>\n",
       "<!-- 140251378840072 -->\n",
       "<g class=\"node\" id=\"node2\">\n",
       "<title>140251378840072</title>\n",
       "<polygon fill=\"none\" points=\"0,-657.5 0,-693.5 211,-693.5 211,-657.5 0,-657.5\" stroke=\"#000000\"/>\n",
       "<text fill=\"#000000\" font-family=\"Times,serif\" font-size=\"14.00\" text-anchor=\"middle\" x=\"105.5\" y=\"-671.8\">zero_padding2d_1: ZeroPadding2D</text>\n",
       "</g>\n",
       "<!-- 140251392797440&#45;&gt;140251378840072 -->\n",
       "<g class=\"edge\" id=\"edge1\">\n",
       "<title>140251392797440-&gt;140251378840072</title>\n",
       "<path d=\"M105.5,-730.4551C105.5,-722.3828 105.5,-712.6764 105.5,-703.6817\" fill=\"none\" stroke=\"#000000\"/>\n",
       "<polygon fill=\"#000000\" points=\"109.0001,-703.5903 105.5,-693.5904 102.0001,-703.5904 109.0001,-703.5903\" stroke=\"#000000\"/>\n",
       "</g>\n",
       "<!-- 140251378840128 -->\n",
       "<g class=\"node\" id=\"node3\">\n",
       "<title>140251378840128</title>\n",
       "<polygon fill=\"none\" points=\"54,-584.5 54,-620.5 157,-620.5 157,-584.5 54,-584.5\" stroke=\"#000000\"/>\n",
       "<text fill=\"#000000\" font-family=\"Times,serif\" font-size=\"14.00\" text-anchor=\"middle\" x=\"105.5\" y=\"-598.8\">conv0: Conv2D</text>\n",
       "</g>\n",
       "<!-- 140251378840072&#45;&gt;140251378840128 -->\n",
       "<g class=\"edge\" id=\"edge2\">\n",
       "<title>140251378840072-&gt;140251378840128</title>\n",
       "<path d=\"M105.5,-657.4551C105.5,-649.3828 105.5,-639.6764 105.5,-630.6817\" fill=\"none\" stroke=\"#000000\"/>\n",
       "<polygon fill=\"#000000\" points=\"109.0001,-630.5903 105.5,-620.5904 102.0001,-630.5904 109.0001,-630.5903\" stroke=\"#000000\"/>\n",
       "</g>\n",
       "<!-- 140251379637944 -->\n",
       "<g class=\"node\" id=\"node4\">\n",
       "<title>140251379637944</title>\n",
       "<polygon fill=\"none\" points=\"28,-511.5 28,-547.5 183,-547.5 183,-511.5 28,-511.5\" stroke=\"#000000\"/>\n",
       "<text fill=\"#000000\" font-family=\"Times,serif\" font-size=\"14.00\" text-anchor=\"middle\" x=\"105.5\" y=\"-525.8\">bn0: BatchNormalization</text>\n",
       "</g>\n",
       "<!-- 140251378840128&#45;&gt;140251379637944 -->\n",
       "<g class=\"edge\" id=\"edge3\">\n",
       "<title>140251378840128-&gt;140251379637944</title>\n",
       "<path d=\"M105.5,-584.4551C105.5,-576.3828 105.5,-566.6764 105.5,-557.6817\" fill=\"none\" stroke=\"#000000\"/>\n",
       "<polygon fill=\"#000000\" points=\"109.0001,-557.5903 105.5,-547.5904 102.0001,-557.5904 109.0001,-557.5903\" stroke=\"#000000\"/>\n",
       "</g>\n",
       "<!-- 140251379637104 -->\n",
       "<g class=\"node\" id=\"node5\">\n",
       "<title>140251379637104</title>\n",
       "<polygon fill=\"none\" points=\"31.5,-438.5 31.5,-474.5 179.5,-474.5 179.5,-438.5 31.5,-438.5\" stroke=\"#000000\"/>\n",
       "<text fill=\"#000000\" font-family=\"Times,serif\" font-size=\"14.00\" text-anchor=\"middle\" x=\"105.5\" y=\"-452.8\">activation_1: Activation</text>\n",
       "</g>\n",
       "<!-- 140251379637944&#45;&gt;140251379637104 -->\n",
       "<g class=\"edge\" id=\"edge4\">\n",
       "<title>140251379637944-&gt;140251379637104</title>\n",
       "<path d=\"M105.5,-511.4551C105.5,-503.3828 105.5,-493.6764 105.5,-484.6817\" fill=\"none\" stroke=\"#000000\"/>\n",
       "<polygon fill=\"#000000\" points=\"109.0001,-484.5903 105.5,-474.5904 102.0001,-484.5904 109.0001,-484.5903\" stroke=\"#000000\"/>\n",
       "</g>\n",
       "<!-- 140251378842648 -->\n",
       "<g class=\"node\" id=\"node6\">\n",
       "<title>140251378842648</title>\n",
       "<polygon fill=\"none\" points=\"54,-365.5 54,-401.5 157,-401.5 157,-365.5 54,-365.5\" stroke=\"#000000\"/>\n",
       "<text fill=\"#000000\" font-family=\"Times,serif\" font-size=\"14.00\" text-anchor=\"middle\" x=\"105.5\" y=\"-379.8\">conv1: Conv2D</text>\n",
       "</g>\n",
       "<!-- 140251379637104&#45;&gt;140251378842648 -->\n",
       "<g class=\"edge\" id=\"edge5\">\n",
       "<title>140251379637104-&gt;140251378842648</title>\n",
       "<path d=\"M105.5,-438.4551C105.5,-430.3828 105.5,-420.6764 105.5,-411.6817\" fill=\"none\" stroke=\"#000000\"/>\n",
       "<polygon fill=\"#000000\" points=\"109.0001,-411.5903 105.5,-401.5904 102.0001,-411.5904 109.0001,-411.5903\" stroke=\"#000000\"/>\n",
       "</g>\n",
       "<!-- 140251379397240 -->\n",
       "<g class=\"node\" id=\"node7\">\n",
       "<title>140251379397240</title>\n",
       "<polygon fill=\"none\" points=\"28,-292.5 28,-328.5 183,-328.5 183,-292.5 28,-292.5\" stroke=\"#000000\"/>\n",
       "<text fill=\"#000000\" font-family=\"Times,serif\" font-size=\"14.00\" text-anchor=\"middle\" x=\"105.5\" y=\"-306.8\">bn1: BatchNormalization</text>\n",
       "</g>\n",
       "<!-- 140251378842648&#45;&gt;140251379397240 -->\n",
       "<g class=\"edge\" id=\"edge6\">\n",
       "<title>140251378842648-&gt;140251379397240</title>\n",
       "<path d=\"M105.5,-365.4551C105.5,-357.3828 105.5,-347.6764 105.5,-338.6817\" fill=\"none\" stroke=\"#000000\"/>\n",
       "<polygon fill=\"#000000\" points=\"109.0001,-338.5903 105.5,-328.5904 102.0001,-338.5904 109.0001,-338.5903\" stroke=\"#000000\"/>\n",
       "</g>\n",
       "<!-- 140251378248168 -->\n",
       "<g class=\"node\" id=\"node8\">\n",
       "<title>140251378248168</title>\n",
       "<polygon fill=\"none\" points=\"31.5,-219.5 31.5,-255.5 179.5,-255.5 179.5,-219.5 31.5,-219.5\" stroke=\"#000000\"/>\n",
       "<text fill=\"#000000\" font-family=\"Times,serif\" font-size=\"14.00\" text-anchor=\"middle\" x=\"105.5\" y=\"-233.8\">activation_2: Activation</text>\n",
       "</g>\n",
       "<!-- 140251379397240&#45;&gt;140251378248168 -->\n",
       "<g class=\"edge\" id=\"edge7\">\n",
       "<title>140251379397240-&gt;140251378248168</title>\n",
       "<path d=\"M105.5,-292.4551C105.5,-284.3828 105.5,-274.6764 105.5,-265.6817\" fill=\"none\" stroke=\"#000000\"/>\n",
       "<polygon fill=\"#000000\" points=\"109.0001,-265.5903 105.5,-255.5904 102.0001,-265.5904 109.0001,-265.5903\" stroke=\"#000000\"/>\n",
       "</g>\n",
       "<!-- 140251377959768 -->\n",
       "<g class=\"node\" id=\"node9\">\n",
       "<title>140251377959768</title>\n",
       "<polygon fill=\"none\" points=\"24,-146.5 24,-182.5 187,-182.5 187,-146.5 24,-146.5\" stroke=\"#000000\"/>\n",
       "<text fill=\"#000000\" font-family=\"Times,serif\" font-size=\"14.00\" text-anchor=\"middle\" x=\"105.5\" y=\"-160.8\">max_pool: MaxPooling2D</text>\n",
       "</g>\n",
       "<!-- 140251378248168&#45;&gt;140251377959768 -->\n",
       "<g class=\"edge\" id=\"edge8\">\n",
       "<title>140251378248168-&gt;140251377959768</title>\n",
       "<path d=\"M105.5,-219.4551C105.5,-211.3828 105.5,-201.6764 105.5,-192.6817\" fill=\"none\" stroke=\"#000000\"/>\n",
       "<polygon fill=\"#000000\" points=\"109.0001,-192.5903 105.5,-182.5904 102.0001,-192.5904 109.0001,-192.5903\" stroke=\"#000000\"/>\n",
       "</g>\n",
       "<!-- 140251377407144 -->\n",
       "<g class=\"node\" id=\"node10\">\n",
       "<title>140251377407144</title>\n",
       "<polygon fill=\"none\" points=\"50.5,-73.5 50.5,-109.5 160.5,-109.5 160.5,-73.5 50.5,-73.5\" stroke=\"#000000\"/>\n",
       "<text fill=\"#000000\" font-family=\"Times,serif\" font-size=\"14.00\" text-anchor=\"middle\" x=\"105.5\" y=\"-87.8\">flatten_1: Flatten</text>\n",
       "</g>\n",
       "<!-- 140251377959768&#45;&gt;140251377407144 -->\n",
       "<g class=\"edge\" id=\"edge9\">\n",
       "<title>140251377959768-&gt;140251377407144</title>\n",
       "<path d=\"M105.5,-146.4551C105.5,-138.3828 105.5,-128.6764 105.5,-119.6817\" fill=\"none\" stroke=\"#000000\"/>\n",
       "<polygon fill=\"#000000\" points=\"109.0001,-119.5903 105.5,-109.5904 102.0001,-119.5904 109.0001,-119.5903\" stroke=\"#000000\"/>\n",
       "</g>\n",
       "<!-- 140251377684264 -->\n",
       "<g class=\"node\" id=\"node11\">\n",
       "<title>140251377684264</title>\n",
       "<polygon fill=\"none\" points=\"71.5,-.5 71.5,-36.5 139.5,-36.5 139.5,-.5 71.5,-.5\" stroke=\"#000000\"/>\n",
       "<text fill=\"#000000\" font-family=\"Times,serif\" font-size=\"14.00\" text-anchor=\"middle\" x=\"105.5\" y=\"-14.8\">fc: Dense</text>\n",
       "</g>\n",
       "<!-- 140251377407144&#45;&gt;140251377684264 -->\n",
       "<g class=\"edge\" id=\"edge10\">\n",
       "<title>140251377407144-&gt;140251377684264</title>\n",
       "<path d=\"M105.5,-73.4551C105.5,-65.3828 105.5,-55.6764 105.5,-46.6817\" fill=\"none\" stroke=\"#000000\"/>\n",
       "<polygon fill=\"#000000\" points=\"109.0001,-46.5903 105.5,-36.5904 102.0001,-46.5904 109.0001,-46.5903\" stroke=\"#000000\"/>\n",
       "</g>\n",
       "</g>\n",
       "</svg>"
      ],
      "text/plain": [
       "<IPython.core.display.SVG object>"
      ]
     },
     "execution_count": 11,
     "metadata": {},
     "output_type": "execute_result"
    }
   ],
   "source": [
    "plot_model(happyModel, to_file='HappyModel.png')\n",
    "SVG(model_to_dot(happyModel).create(prog='dot', format='svg'))"
   ]
  }
 ],
 "metadata": {
  "kernelspec": {
   "display_name": "Python 3",
   "language": "python",
   "name": "python3"
  },
  "language_info": {
   "codemirror_mode": {
    "name": "ipython",
    "version": 3
   },
   "file_extension": ".py",
   "mimetype": "text/x-python",
   "name": "python",
   "nbconvert_exporter": "python",
   "pygments_lexer": "ipython3",
   "version": "3.7.3"
  }
 },
 "nbformat": 4,
 "nbformat_minor": 2
}
